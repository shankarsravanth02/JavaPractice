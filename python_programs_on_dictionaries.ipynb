{
  "nbformat": 4,
  "nbformat_minor": 0,
  "metadata": {
    "colab": {
      "name": "python programs on dictionaries",
      "provenance": [],
      "authorship_tag": "ABX9TyOEHF+bNYLyE67KiNMDnaAK",
      "include_colab_link": true
    },
    "kernelspec": {
      "name": "python3",
      "display_name": "Python 3"
    }
  },
  "cells": [
    {
      "cell_type": "markdown",
      "metadata": {
        "id": "view-in-github",
        "colab_type": "text"
      },
      "source": [
        "<a href=\"https://colab.research.google.com/github/shankarsravanth02/JavaPractice/blob/master/python_programs_on_dictionaries.ipynb\" target=\"_parent\"><img src=\"https://colab.research.google.com/assets/colab-badge.svg\" alt=\"Open In Colab\"/></a>"
      ]
    },
    {
      "cell_type": "markdown",
      "metadata": {
        "id": "29bxYk7yQxJv",
        "colab_type": "text"
      },
      "source": [
        "# python programs on dictionaries"
      ]
    },
    {
      "cell_type": "markdown",
      "metadata": {
        "id": "tRUjjCpMRAx9",
        "colab_type": "text"
      },
      "source": [
        "Question 1"
      ]
    },
    {
      "cell_type": "code",
      "metadata": {
        "id": "Zn-uZloqUqjD",
        "colab_type": "code",
        "colab": {
          "base_uri": "https://localhost:8080/",
          "height": 34
        },
        "outputId": "e55bfea3-5175-44ae-859f-cd1d924dbdeb"
      },
      "source": [
        "def mult(a):\n",
        "  return lambda x:x*a\n",
        "final=mult(7)\n",
        "print(final(5))"
      ],
      "execution_count": null,
      "outputs": [
        {
          "output_type": "stream",
          "text": [
            "35\n"
          ],
          "name": "stdout"
        }
      ]
    },
    {
      "cell_type": "markdown",
      "metadata": {
        "id": "L2oMQ1FiREau",
        "colab_type": "text"
      },
      "source": [
        "Question 2"
      ]
    },
    {
      "cell_type": "code",
      "metadata": {
        "id": "-JJn5VN4Vaiz",
        "colab_type": "code",
        "colab": {
          "base_uri": "https://localhost:8080/",
          "height": 34
        },
        "outputId": "36892c75-6fb2-4821-d180-56c5f61041a5"
      },
      "source": [
        "words=['book','language','python','program','java']\n",
        "l=len(words)\n",
        "for i in range(1,l+1):\n",
        "  words.insert(l-i,'the')\n",
        "print(words)"
      ],
      "execution_count": null,
      "outputs": [
        {
          "output_type": "stream",
          "text": [
            "['the', 'book', 'the', 'language', 'the', 'python', 'the', 'program', 'the', 'java']\n"
          ],
          "name": "stdout"
        }
      ]
    },
    {
      "cell_type": "markdown",
      "metadata": {
        "id": "HrQXhUwSRH3u",
        "colab_type": "text"
      },
      "source": [
        "Question 3"
      ]
    },
    {
      "cell_type": "code",
      "metadata": {
        "id": "kKvuIcbHXY75",
        "colab_type": "code",
        "colab": {
          "base_uri": "https://localhost:8080/",
          "height": 34
        },
        "outputId": "480dbb7a-3f28-4d43-b40c-5d945fe5aae4"
      },
      "source": [
        "dic1={1:10,2:20,3:30,4:40,5:50}\n",
        "dic2={6:60,7:70,3:80,1:10,8:80}\n",
        "for k in range(0,6):\n",
        "  if k in dic2.keys() and k in dic1.keys():\n",
        "    dic2.pop(k) and dic1.pop(k)\n",
        "dic1={**dic1,**dic2}\n",
        "print('d1=',dic1)"
      ],
      "execution_count": null,
      "outputs": [
        {
          "output_type": "stream",
          "text": [
            "d1= {2: 20, 4: 40, 5: 50, 6: 60, 7: 70, 8: 80}\n"
          ],
          "name": "stdout"
        }
      ]
    },
    {
      "cell_type": "markdown",
      "metadata": {
        "id": "3ey89vRKRKH6",
        "colab_type": "text"
      },
      "source": [
        "Question 4"
      ]
    },
    {
      "cell_type": "code",
      "metadata": {
        "id": "Bs5u8UsJb0VM",
        "colab_type": "code",
        "colab": {
          "base_uri": "https://localhost:8080/",
          "height": 68
        },
        "outputId": "a6815bf5-340f-41c5-f69b-6ab794a2008e"
      },
      "source": [
        "X,Y=int(input('enter rows:')),int(input('enter columns:'))\n",
        "my_list=[[0 for j in range(Y)] for i in range(X)]\n",
        "for i in range(X):\n",
        "  for j in range(Y):\n",
        "    my_list[i][j]=i*j\n",
        "print(my_list)"
      ],
      "execution_count": null,
      "outputs": [
        {
          "output_type": "stream",
          "text": [
            "enter rows:3\n",
            "enter columns:3\n",
            "[[0, 0, 0], [0, 1, 2], [0, 2, 4]]\n"
          ],
          "name": "stdout"
        }
      ]
    },
    {
      "cell_type": "markdown",
      "metadata": {
        "id": "5O5X1iYyRMml",
        "colab_type": "text"
      },
      "source": [
        "Question 5"
      ]
    },
    {
      "cell_type": "code",
      "metadata": {
        "id": "W7tc0fen1EFR",
        "colab_type": "code",
        "colab": {
          "base_uri": "https://localhost:8080/",
          "height": 289
        },
        "outputId": "31e46bae-37cd-4820-82cb-6d4de62f8f71"
      },
      "source": [
        "n=int(input('enter range:'))\n",
        "sorted_dic={}\n",
        "for i in range(n):\n",
        "  Key=int(input('Key='))\n",
        "  Value=int(input('value='))\n",
        "  sorted_dic[Key]=Value\n",
        "  sorts=dict(sorted(sorted_dic.items()))\n",
        "  print('D1=',sorts)"
      ],
      "execution_count": null,
      "outputs": [
        {
          "output_type": "stream",
          "text": [
            "enter range:5\n",
            "Key=50\n",
            "value=25\n",
            "D1= {50: 25}\n",
            "Key=20\n",
            "value=11\n",
            "D1= {20: 11, 50: 25}\n",
            "Key=40\n",
            "value=22\n",
            "D1= {20: 11, 40: 22, 50: 25}\n",
            "Key=10\n",
            "value=5\n",
            "D1= {10: 5, 20: 11, 40: 22, 50: 25}\n",
            "Key=30\n",
            "value=15\n",
            "D1= {10: 5, 20: 11, 30: 15, 40: 22, 50: 25}\n"
          ],
          "name": "stdout"
        }
      ]
    }
  ]
}