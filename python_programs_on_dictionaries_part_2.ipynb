{
  "nbformat": 4,
  "nbformat_minor": 0,
  "metadata": {
    "colab": {
      "name": "python programs on dictionaries part 2",
      "provenance": [],
      "include_colab_link": true
    },
    "kernelspec": {
      "name": "python3",
      "display_name": "Python 3"
    }
  },
  "cells": [
    {
      "cell_type": "markdown",
      "metadata": {
        "id": "view-in-github",
        "colab_type": "text"
      },
      "source": [
        "<a href=\"https://colab.research.google.com/github/shankarsravanth02/JavaPractice/blob/master/python_programs_on_dictionaries_part_2.ipynb\" target=\"_parent\"><img src=\"https://colab.research.google.com/assets/colab-badge.svg\" alt=\"Open In Colab\"/></a>"
      ]
    },
    {
      "cell_type": "markdown",
      "metadata": {
        "id": "6FtvK4PC4BNL",
        "colab_type": "text"
      },
      "source": [
        "# python programs on dictionaries part 2"
      ]
    },
    {
      "cell_type": "markdown",
      "metadata": {
        "id": "j1_FbdUC445q",
        "colab_type": "text"
      },
      "source": [
        "Question 1"
      ]
    },
    {
      "cell_type": "code",
      "metadata": {
        "id": "s3ReJI9M_fe3",
        "colab_type": "code",
        "colab": {
          "base_uri": "https://localhost:8080/",
          "height": 34
        },
        "outputId": "1fc7676c-bfae-484b-cef9-b25ce3890e7d"
      },
      "source": [
        "t1=('python','java','C','golang','C++')\n",
        "d1={}\n",
        "for i in range(5):\n",
        "  d1[i]=t1[i]\n",
        "print(d1)"
      ],
      "execution_count": null,
      "outputs": [
        {
          "output_type": "stream",
          "text": [
            "{0: 'python', 1: 'java', 2: 'C', 3: 'golang', 4: 'C++'}\n"
          ],
          "name": "stdout"
        }
      ]
    },
    {
      "cell_type": "markdown",
      "metadata": {
        "id": "SDIkyzr547ld",
        "colab_type": "text"
      },
      "source": [
        "Question 2"
      ]
    },
    {
      "cell_type": "code",
      "metadata": {
        "id": "cBAMRTAmAkeV",
        "colab_type": "code",
        "colab": {
          "base_uri": "https://localhost:8080/",
          "height": 212
        },
        "outputId": "3df34ed4-d023-4fb9-ee2a-4b7e92aa68db"
      },
      "source": [
        "dic={}\n",
        "for j in range(5):\n",
        "  roll=int(input('enter roll number:'))\n",
        "  marks=int(input('enter marks:'))\n",
        "  dic[roll]=marks\n",
        "  if marks<70:\n",
        "    dic.pop(roll)\n",
        "print(dic)"
      ],
      "execution_count": null,
      "outputs": [
        {
          "output_type": "stream",
          "text": [
            "enter roll number:1\n",
            "enter marks:89\n",
            "enter roll number:2\n",
            "enter marks:54\n",
            "enter roll number:3\n",
            "enter marks:78\n",
            "enter roll number:4\n",
            "enter marks:64\n",
            "enter roll number:5\n",
            "enter marks:70\n",
            "{1: 89, 3: 78, 5: 70}\n"
          ],
          "name": "stdout"
        }
      ]
    },
    {
      "cell_type": "markdown",
      "metadata": {
        "id": "CDPSKejs47zC",
        "colab_type": "text"
      },
      "source": [
        "Quetion 3"
      ]
    },
    {
      "cell_type": "code",
      "metadata": {
        "id": "uVCPuVjsE1gm",
        "colab_type": "code",
        "colab": {
          "base_uri": "https://localhost:8080/",
          "height": 212
        },
        "outputId": "82bd7114-de4f-4ad4-e05b-51895dd46d74"
      },
      "source": [
        "dic={}\n",
        "for j in range(5):\n",
        "  roll=int(input('enter roll number:'))\n",
        "  marks=int(input('enter marks:'))\n",
        "  dic[roll]=marks\n",
        "  if marks<40:\n",
        "    dic.pop(roll)\n",
        "print(dic)"
      ],
      "execution_count": null,
      "outputs": [
        {
          "output_type": "stream",
          "text": [
            "enter roll number:20\n",
            "enter marks:45\n",
            "enter roll number:21\n",
            "enter marks:78\n",
            "enter roll number:22\n",
            "enter marks:32\n",
            "enter roll number:23\n",
            "enter marks:90\n",
            "enter roll number:24\n",
            "enter marks:98\n",
            "{20: 45, 21: 78, 23: 90, 24: 98}\n"
          ],
          "name": "stdout"
        }
      ]
    },
    {
      "cell_type": "markdown",
      "metadata": {
        "id": "160-O8Cp5CeY",
        "colab_type": "text"
      },
      "source": [
        "Question 4"
      ]
    },
    {
      "cell_type": "code",
      "metadata": {
        "id": "URtq_F-fIBcC",
        "colab_type": "code",
        "colab": {
          "base_uri": "https://localhost:8080/",
          "height": 230
        },
        "outputId": "e0637458-101c-4655-fe35-efa536c0bcf1"
      },
      "source": [
        "dic={}\n",
        "l_rolls=[]\n",
        "for j in range(5):\n",
        "  roll=int(input('enter roll number:'))\n",
        "  marks=int(input('enter marks:'))\n",
        "  dic[roll]=marks\n",
        "print(dic)\n",
        "maxitem=max(dic.items(),key=lambda n:n[1])\n",
        "for key,value in dic.items():\n",
        "  if value==maxitem[1]:\n",
        "    l_rolls.append(key)\n",
        "print(l_rolls,'roll numbered students got highest marks')"
      ],
      "execution_count": null,
      "outputs": [
        {
          "output_type": "stream",
          "text": [
            "enter roll number:1\n",
            "enter marks:43\n",
            "enter roll number:2\n",
            "enter marks:98\n",
            "enter roll number:3\n",
            "enter marks:56\n",
            "enter roll number:4\n",
            "enter marks:98\n",
            "enter roll number:5\n",
            "enter marks:98\n",
            "{1: 43, 2: 98, 3: 56, 4: 98, 5: 98}\n",
            "[2, 4, 5] roll numbered students got highest marks\n"
          ],
          "name": "stdout"
        }
      ]
    },
    {
      "cell_type": "markdown",
      "metadata": {
        "id": "MH6UTwh15FSp",
        "colab_type": "text"
      },
      "source": [
        "Question 5"
      ]
    },
    {
      "cell_type": "code",
      "metadata": {
        "id": "yFXJgCgzUWKM",
        "colab_type": "code",
        "colab": {
          "base_uri": "https://localhost:8080/",
          "height": 72
        },
        "outputId": "2240e9f1-10c1-4dad-862d-fbe4d8f71cdb"
      },
      "source": [
        "d_months=['january','febrauary','march','april','may','june','july','august','september','october','november','december']\n",
        "d_days=[31,28,31,30,31,30,31,31,30,31,30,31]\n",
        "dict_months=zip(d_months,d_days)\n",
        "dict_months=dict(dict_months)\n",
        "print(dict_months)\n",
        "srt=sorted([(i,j) for j,i in dict_months.items()])\n",
        "print([(j,i) for i,j in srt])"
      ],
      "execution_count": null,
      "outputs": [
        {
          "output_type": "stream",
          "text": [
            "{'january': 31, 'febrauary': 28, 'march': 31, 'april': 30, 'may': 31, 'june': 30, 'july': 31, 'august': 31, 'september': 30, 'october': 31, 'november': 30, 'december': 31}\n",
            "[('febrauary', 28), ('april', 30), ('june', 30), ('november', 30), ('september', 30), ('august', 31), ('december', 31), ('january', 31), ('july', 31), ('march', 31), ('may', 31), ('october', 31)]\n"
          ],
          "name": "stdout"
        }
      ]
    }
  ]
}